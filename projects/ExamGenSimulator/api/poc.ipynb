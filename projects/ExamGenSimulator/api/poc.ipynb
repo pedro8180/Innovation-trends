{
 "cells": [
  {
   "cell_type": "code",
   "execution_count": 1,
   "id": "e300da02",
   "metadata": {},
   "outputs": [],
   "source": [
    "from services.url_extractor_service import UrlExtractor\n",
    "from dotenv import load_dotenv\n",
    "load_dotenv()\n",
    "import os\n",
    "\n",
    "api_key = os.getenv('SCRAPPING_TOOL_API_KEY')\n",
    "url = \"https://learn.microsoft.com/en-us/training/courses/ai-102t00\"\n",
    "\n",
    "exam_urls_list = UrlExtractor.scrape_course_modules_units_and_topics(url, api_key)"
   ]
  },
  {
   "cell_type": "code",
   "execution_count": 6,
   "id": "6a0ecb9a",
   "metadata": {},
   "outputs": [],
   "source": [
    "import json\n",
    "\n",
    "exam_urls = json.loads(exam_urls_list)"
   ]
  },
  {
   "cell_type": "code",
   "execution_count": 33,
   "id": "62c9b072",
   "metadata": {},
   "outputs": [],
   "source": [
    "topic_url = exam_urls['modules'][2]['units'][0]['topics'][4]['url']"
   ]
  },
  {
   "cell_type": "code",
   "execution_count": 53,
   "id": "86c72d5f",
   "metadata": {},
   "outputs": [],
   "source": [
    "name = exam_urls['modules'][2]['units'][0]['topics'][4]['name']"
   ]
  },
  {
   "cell_type": "code",
   "execution_count": 48,
   "id": "597ddbdd",
   "metadata": {},
   "outputs": [
    {
     "data": {
      "text/plain": [
       "'https://learn.microsoft.com/en-us/training/modules/analyze-text-ai-language/5-analyze-sentiment'"
      ]
     },
     "execution_count": 48,
     "metadata": {},
     "output_type": "execute_result"
    }
   ],
   "source": [
    "topic_url"
   ]
  },
  {
   "cell_type": "code",
   "execution_count": 39,
   "id": "a98dbcff",
   "metadata": {},
   "outputs": [],
   "source": [
    "\n",
    "from langchain_community.document_loaders import ScrapingAntLoader\n",
    "\n",
    "scrapingant_loader = ScrapingAntLoader(\n",
    "    [topic_url],  # List of URLs to scrape\n",
    "    api_key=api_key,  # Get your API key from https://scrapingant.com/\n",
    "    continue_on_failure=True,  # Ignore unprocessable web pages and log their exceptions\n",
    ")"
   ]
  },
  {
   "cell_type": "code",
   "execution_count": 42,
   "id": "663d838e",
   "metadata": {},
   "outputs": [],
   "source": [
    "docs = scrapingant_loader.load()"
   ]
  },
  {
   "cell_type": "code",
   "execution_count": 49,
   "id": "33fa64b6",
   "metadata": {},
   "outputs": [
    {
     "data": {
      "text/plain": [
       "[Document(metadata={'url': 'https://learn.microsoft.com/en-us/training/modules/analyze-text-ai-language/5-analyze-sentiment'}, page_content='Skip to main content\\n\\nThis browser is no longer supported.\\n\\nUpgrade to Microsoft Edge to take advantage of the latest features, security\\nupdates, and technical support.\\n\\n[ Download Microsoft Edge ](https://go.microsoft.com/fwlink/p/?LinkID=2092881\\n) [ More info about Internet Explorer and Microsoft Edge\\n](https://learn.microsoft.com/en-us/lifecycle/faq/internet-explorer-microsoft-\\nedge)\\n\\n[ Learn ](/en-us/) [ ](https://www.microsoft.com)\\n\\nSuggestions will filter as you type\\n\\nSign in\\n\\n  * [ Profile ](https://learn.microsoft.com/en-us/users/me/activity/)\\n  * [ Settings ](https://learn.microsoft.com/en-us/users/me/settings/)\\n\\nSign out\\n\\n[ ](https://www.microsoft.com)\\n\\n[ Learn ](/en-us/)\\n\\n  * Discover\\n\\n    * [ Documentation ](/en-us/docs/)\\n\\nIn-depth articles on Microsoft developer tools and technologies\\n\\n    * [ Training ](/en-us/training/)\\n\\nPersonalized learning paths and courses\\n\\n    * [ Credentials ](/en-us/credentials/)\\n\\nGlobally recognized, industry-endorsed credentials\\n\\n    * [ Q&A ](/en-us/answers/)\\n\\nTechnical questions and answers moderated by Microsoft\\n\\n    * [ Code Samples ](/en-us/samples/)\\n\\nCode sample library for Microsoft developer tools and technologies\\n\\n    * [ Assessments ](/en-us/assessments/)\\n\\nInteractive, curated guidance and recommendations\\n\\n    * [ Shows ](/en-us/shows/)\\n\\nThousands of hours of original programming from Microsoft experts\\n\\nMicrosoft Applied Skills\\n\\n[ Explore all Applied Skills ](/en-us/credentials/applied-\\nskills/?wt.mc_id=appliedskills_marketingspot_webpage_wwl_learnpromo)\\n\\nShowcase real-world skills. Stand out!\\n\\n  * Product documentation\\n\\n    * [ ASP.NET ](/en-us/aspnet/)\\n    * [ Azure ](/en-us/azure/)\\n    * [ Dynamics 365 ](/en-us/dynamics365/)\\n    * [ Microsoft 365 ](/en-us/microsoft-365/)\\n    * [ Microsoft Copilot ](/en-us/copilot/)\\n    * [ Microsoft Entra ](/en-us/entra/)\\n    * [ Microsoft Exchange ](/en-us/exchange/)\\n    * [ Microsoft Fabric ](/en-us/fabric/)\\n    * [ Microsoft Intune ](/en-us/mem/)\\n    * [ .NET ](/en-us/dotnet/)\\n    * [ Power Apps ](/en-us/power-apps/)\\n    * [ Power BI ](/en-us/power-bi/)\\n    * [ Power Platform ](/en-us/power-platform/)\\n    * [ Microsoft Purview ](/en-us/purview/)\\n    * [ SharePoint ](/en-us/sharepoint/)\\n    * [ SQL ](/en-us/sql/)\\n    * [ Microsoft Teams ](/en-us/microsoftteams/)\\n    * [ Visual Studio ](/en-us/visualstudio/)\\n    * [ Windows ](/en-us/windows/)\\n    * [ Windows Server ](/en-us/windows-server/)\\n[ View all products ](/en-us/docs/)\\n\\nMicrosoft Applied Skills\\n\\n[ Explore all Applied Skills ](/en-us/credentials/applied-\\nskills/?wt.mc_id=appliedskills_marketingspot_webpage_wwl_learnpromo)\\n\\nShowcase real-world skills. Stand out!\\n\\n  * Development languages\\n\\n    * [ C++ ](/en-us/cpp/)\\n    * [ C# ](/en-us/dotnet/csharp/)\\n    * [ DAX ](/en-us/dax/)\\n    * [ Java ](/en-us/java/)\\n    * [ OData ](/en-us/odata/)\\n    * [ OpenAPI ](/en-us/openapi/)\\n    * [ Power Query M ](/en-us/powerquery-m/)\\n    * [ VBA ](/en-us/office/vba/)\\n\\nMicrosoft Applied Skills\\n\\n[ Explore all Applied Skills ](/en-us/credentials/applied-\\nskills/?wt.mc_id=appliedskills_marketingspot_webpage_wwl_learnpromo)\\n\\nShowcase real-world skills. Stand out!\\n\\n  * Topics\\n\\n    * [ Learn for Organizations ](/en-us/training/organizations/)\\n    * [ Artificial intelligence ](/en-us/ai/)\\n    * [ Compliance ](/en-us/compliance/)\\n    * [ DevOps ](/en-us/devops/)\\n    * [ Platform engineering ](/en-us/platform-engineering/)\\n    * [ Security ](/en-us/security/)\\n\\nMicrosoft Applied Skills\\n\\n[ Explore all Applied Skills ](/en-us/credentials/applied-\\nskills/?wt.mc_id=appliedskills_marketingspot_webpage_wwl_learnpromo)\\n\\nShowcase real-world skills. Stand out!\\n\\nSuggestions will filter as you type\\n\\nSign in\\n\\n  * [ Profile ](https://learn.microsoft.com/en-us/users/me/activity/)\\n  * [ Settings ](https://learn.microsoft.com/en-us/users/me/settings/)\\n\\nSign out\\n\\n[ Training  ](/en-us/training/)\\n\\n  * Products\\n    * [ Azure ](/en-us/training/azure/)\\n    * [ Dynamics 365 ](/en-us/training/dynamics365/)\\n    * [ Defender ](/en-us/training/defender/)\\n    * [ .NET ](/en-us/training/dotnet/)\\n    * [ GitHub ](/en-us/training/github/)\\n    * [ Microsoft 365 ](/en-us/training/m365/)\\n    * [ Microsoft Entra ](/en-us/training/entra/)\\n    * [ Microsoft Fabric ](/en-us/training/fabric/)\\n    * [ Power Platform ](/en-us/training/powerplatform/)\\n    * [ Purview ](/en-us/training/purview/)\\n    * [ Teams ](/en-us/training/teams/)\\n    * [ Browse all training ](/en-us/training/browse/)\\n  * Career Paths\\n    * [ Administrator ](/en-us/training/career-paths/administrator/)\\n    * [ AI Engineer ](/en-us/training/career-paths/ai-engineer/)\\n    * [ App Maker ](/en-us/training/career-paths/app-maker/)\\n    * [ Business User ](/en-us/training/career-paths/business-user/)\\n    * [ Data Analyst ](/en-us/training/career-paths/data-analyst/)\\n    * [ Data Engineer ](/en-us/training/career-paths/data-engineer/)\\n    * [ Data Scientist ](/en-us/training/career-paths/data-scientist/)\\n    * [ Developer ](/en-us/training/career-paths/developer/)\\n    * [ DevOps Engineer ](/en-us/training/career-paths/devops-engineer/)\\n    * [ Functional Consultant ](/en-us/training/career-paths/functional-consultant/)\\n    * [ Identity and Access Administrator ](/en-us/training/career-paths/identity-and-access-admin/)\\n    * [ Information Protection Administrator ](/en-us/training/career-paths/information-protection-admin/)\\n    * [ Security Operations Analyst ](/en-us/training/career-paths/security-operations-analyst/)\\n    * [ Security Engineer ](/en-us/training/career-paths/security-engineer/)\\n    * [ Solutions Architect ](/en-us/training/career-paths/solution-architect/)\\n  * [ Browse all training ](/en-us/training/browse/)\\n  * Learn for Organizations\\n    * [ Microsoft Learn for Organizations ](/en-us/training/organizations)\\n    * [ Structured learning (Plans) ](/en-us/training/plans-on-microsoft-learn)\\n    * [ Watch training (Course videos) ](/en-us/training/course-videos-on-shows)\\n    * [ Classroom training (TSP) ](/en-us/credentials/support/partners)\\n    * [ Gamified training (Challenges) ](/en-us/training/topics/event-challenges)\\n    * Resources\\n      * [ Event training (VTDs) ](https://events.microsoft.com/mvtd?wt.mc_id=lfo_content_webpage_wwl&language=English&deliverylanguage=English&clientTimeZone=1&startTime=08:00&endTime=17:00)\\n  * Educator Center\\n    * [ Overview ](/en-us/training/educator-center/)\\n    * Professional development\\n      * [ Accessibility and inclusivity ](/en-us/training/educator-center/topics/accessibility/)\\n      * [ AI for education ](/en-us/training/educator-center/topics/ai-for-education/)\\n      * [ Blended, remote, and hybrid learning ](/en-us/training/educator-center/topics/blended-learning/)\\n      * [ Cybersecurity ](/en-us/training/educator-center/topics/cybersecurity)\\n      * [ Education leadership and staff collaboration ](/en-us/training/educator-center/topics/education-leadership/)\\n      * [ Learning Accelerators ](/en-us/training/educator-center/topics/learning-accelerators/)\\n      * [ Microsoft instructional toolbox ](/en-us/training/educator-center/topics/instructional-toolbox/)\\n      * [ Social emotional learning ](/en-us/training/educator-center/topics/social-emotional-learning/)\\n      * [ STEM, coding, and esports ](/en-us/training/educator-center/topics/stem/)\\n      * [ Student-centered learning ](/en-us/training/educator-center/topics/student-centered-learning/)\\n      * [ What\\'s happening in education ](/en-us/training/educator-center/topics/whats-new/)\\n      * [ Browse all ](/en-us/training/browse/?roles=k-12-educator%2Chigher-ed-educator%2Cschool-leader%2Cparent-guardian)\\n    * Product guides\\n      * [ Microsoft Teams for Education ](/en-us/training/educator-center/product-guides/teams/)\\n      * [ OneNote for education ](/en-us/training/educator-center/product-guides/onenote/)\\n      * [ Microsoft 365 for education ](/en-us/training/educator-center/product-guides/office/)\\n      * [ Minecraft Education ](/en-us/training/educator-center/product-guides/minecraft/)\\n      * [ Windows for education ](/en-us/training/educator-center/product-guides/windows/)\\n      * [ PowerPoint for education ](/en-us/training/educator-center/product-guides/powerpoint/)\\n      * [ Immersive Reader ](/en-us/training/educator-center/product-guides/immersive-reader/)\\n      * [ Reading Progress ](/en-us/training/educator-center/product-guides/reading-progress/)\\n      * [ Search Progress and Coach ](/en-us/training/educator-center/product-guides/search-coach/)\\n      * [ Browse all ](/en-us/training/browse/?roles=k-12-educator%2Chigher-ed-educator%2Cschool-leader%2Cparent-guardian)\\n    * [ Instructor materials ](/en-us/training/educator-center/instructor-materials/)\\n    * [ Educator programs ](/en-us/training/educator-center/programs/)\\n  * Student Hub\\n    * [ Overview ](/en-us/training/student-hub/)\\n    * [ Student certifications ](/en-us/training/student-hub/certifications/)\\n  * [ FAQ & Help ](/en-us/training/support/)\\n  * More\\n    * Products\\n      * [ Azure ](/en-us/training/azure/)\\n      * [ Dynamics 365 ](/en-us/training/dynamics365/)\\n      * [ Defender ](/en-us/training/defender/)\\n      * [ .NET ](/en-us/training/dotnet/)\\n      * [ GitHub ](/en-us/training/github/)\\n      * [ Microsoft 365 ](/en-us/training/m365/)\\n      * [ Microsoft Entra ](/en-us/training/entra/)\\n      * [ Microsoft Fabric ](/en-us/training/fabric/)\\n      * [ Power Platform ](/en-us/training/powerplatform/)\\n      * [ Purview ](/en-us/training/purview/)\\n      * [ Teams ](/en-us/training/teams/)\\n      * [ Browse all training ](/en-us/training/browse/)\\n    * Career Paths\\n      * [ Administrator ](/en-us/training/career-paths/administrator/)\\n      * [ AI Engineer ](/en-us/training/career-paths/ai-engineer/)\\n      * [ App Maker ](/en-us/training/career-paths/app-maker/)\\n      * [ Business User ](/en-us/training/career-paths/business-user/)\\n      * [ Data Analyst ](/en-us/training/career-paths/data-analyst/)\\n      * [ Data Engineer ](/en-us/training/career-paths/data-engineer/)\\n      * [ Data Scientist ](/en-us/training/career-paths/data-scientist/)\\n      * [ Developer ](/en-us/training/career-paths/developer/)\\n      * [ DevOps Engineer ](/en-us/training/career-paths/devops-engineer/)\\n      * [ Functional Consultant ](/en-us/training/career-paths/functional-consultant/)\\n      * [ Identity and Access Administrator ](/en-us/training/career-paths/identity-and-access-admin/)\\n      * [ Information Protection Administrator ](/en-us/training/career-paths/information-protection-admin/)\\n      * [ Security Operations Analyst ](/en-us/training/career-paths/security-operations-analyst/)\\n      * [ Security Engineer ](/en-us/training/career-paths/security-engineer/)\\n      * [ Solutions Architect ](/en-us/training/career-paths/solution-architect/)\\n    * [ Browse all training ](/en-us/training/browse/)\\n    * Learn for Organizations\\n      * [ Microsoft Learn for Organizations ](/en-us/training/organizations)\\n      * [ Structured learning (Plans) ](/en-us/training/plans-on-microsoft-learn)\\n      * [ Watch training (Course videos) ](/en-us/training/course-videos-on-shows)\\n      * [ Classroom training (TSP) ](/en-us/credentials/support/partners)\\n      * [ Gamified training (Challenges) ](/en-us/training/topics/event-challenges)\\n      * Resources\\n        * [ Event training (VTDs) ](https://events.microsoft.com/mvtd?wt.mc_id=lfo_content_webpage_wwl&language=English&deliverylanguage=English&clientTimeZone=1&startTime=08:00&endTime=17:00)\\n    * Educator Center\\n      * [ Overview ](/en-us/training/educator-center/)\\n      * Professional development\\n        * [ Accessibility and inclusivity ](/en-us/training/educator-center/topics/accessibility/)\\n        * [ AI for education ](/en-us/training/educator-center/topics/ai-for-education/)\\n        * [ Blended, remote, and hybrid learning ](/en-us/training/educator-center/topics/blended-learning/)\\n        * [ Cybersecurity ](/en-us/training/educator-center/topics/cybersecurity)\\n        * [ Education leadership and staff collaboration ](/en-us/training/educator-center/topics/education-leadership/)\\n        * [ Learning Accelerators ](/en-us/training/educator-center/topics/learning-accelerators/)\\n        * [ Microsoft instructional toolbox ](/en-us/training/educator-center/topics/instructional-toolbox/)\\n        * [ Social emotional learning ](/en-us/training/educator-center/topics/social-emotional-learning/)\\n        * [ STEM, coding, and esports ](/en-us/training/educator-center/topics/stem/)\\n        * [ Student-centered learning ](/en-us/training/educator-center/topics/student-centered-learning/)\\n        * [ What\\'s happening in education ](/en-us/training/educator-center/topics/whats-new/)\\n        * [ Browse all ](/en-us/training/browse/?roles=k-12-educator%2Chigher-ed-educator%2Cschool-leader%2Cparent-guardian)\\n      * Product guides\\n        * [ Microsoft Teams for Education ](/en-us/training/educator-center/product-guides/teams/)\\n        * [ OneNote for education ](/en-us/training/educator-center/product-guides/onenote/)\\n        * [ Microsoft 365 for education ](/en-us/training/educator-center/product-guides/office/)\\n        * [ Minecraft Education ](/en-us/training/educator-center/product-guides/minecraft/)\\n        * [ Windows for education ](/en-us/training/educator-center/product-guides/windows/)\\n        * [ PowerPoint for education ](/en-us/training/educator-center/product-guides/powerpoint/)\\n        * [ Immersive Reader ](/en-us/training/educator-center/product-guides/immersive-reader/)\\n        * [ Reading Progress ](/en-us/training/educator-center/product-guides/reading-progress/)\\n        * [ Search Progress and Coach ](/en-us/training/educator-center/product-guides/search-coach/)\\n        * [ Browse all ](/en-us/training/browse/?roles=k-12-educator%2Chigher-ed-educator%2Cschool-leader%2Cparent-guardian)\\n      * [ Instructor materials ](/en-us/training/educator-center/instructor-materials/)\\n      * [ Educator programs ](/en-us/training/educator-center/programs/)\\n    * Student Hub\\n      * [ Overview ](/en-us/training/student-hub/)\\n      * [ Student certifications ](/en-us/training/student-hub/certifications/)\\n    * [ FAQ & Help ](/en-us/training/support/)\\n\\n1%\\n\\n  1. [ Learn ](/en-us/)\\n  2. [ Training ](/en-us/training/)\\n  3. [ Browse ](/en-us/training/browse/)\\n  4. [ Develop natural language solutions in Azure ](/en-us/training/paths/develop-language-solutions-azure-ai/)\\n  5. [ Analyze text with Azure AI Language ](/en-us/training/modules/analyze-text-ai-language/)\\n\\n  1. [ Learn ](/en-us/)\\n  2. [ Training ](/en-us/training/)\\n  3. [ Browse ](/en-us/training/browse/)\\n  4. [ Develop natural language solutions in Azure ](/en-us/training/paths/develop-language-solutions-azure-ai/)\\n  5. [ Analyze text with Azure AI Language ](/en-us/training/modules/analyze-text-ai-language/)\\n\\n[ Read in English ](https://learn.microsoft.com/en-\\nus/training/modules/analyze-text-ai-language/5-analyze-sentiment) Add to\\nCollections Add to plan\\n\\n  * Unit 5 of 10\\n\\n## Analyze text with Azure AI Language\\n\\n    * [ Introduction 1 min : Completed ](/en-us/training/modules/analyze-text-ai-language/1-introduction/)\\n    * [ Provision an Azure AI Language resource 3 min : Completed ](/en-us/training/modules/analyze-text-ai-language/2-provision-resource/)\\n    * [ Detect language 5 min : Completed ](/en-us/training/modules/analyze-text-ai-language/3-detect-language/)\\n    * [ Extract key phrases 2 min : Completed ](/en-us/training/modules/analyze-text-ai-language/4-extract-key-phrases/)\\n    * [ Analyze sentiment 3 min : Completed ](/en-us/training/modules/analyze-text-ai-language/5-analyze-sentiment/)\\n    * [ Extract entities 3 min : Completed ](/en-us/training/modules/analyze-text-ai-language/6-extract-entities/)\\n    * [ Extract linked entities 3 min : Completed ](/en-us/training/modules/analyze-text-ai-language/7-extract-linked-entities/)\\n    * [ Exercise - Analyze text 30 min : Completed ](/en-us/training/modules/analyze-text-ai-language/8-exercise-analyze-text/)\\n    * [ Module assessment 3 min : Completed ](/en-us/training/modules/analyze-text-ai-language/9-knowledge-check/)\\n    * [ Summary 1 min : Completed ](/en-us/training/modules/analyze-text-ai-language/10-summary/)\\n\\nAchievements\\n\\nAsk Learn Ask Learn\\n\\n# Analyze sentiment\\n\\nCompleted 100 XP\\n\\n  * 3 minutes\\n\\nSentiment analysis is used to evaluate how positive or negative a text\\ndocument is, which can be useful in various workloads, such as:\\n\\n  * Evaluating a movie, book, or product by quantifying sentiment based on reviews.\\n  * Prioritizing customer service responses to correspondence received through email or social media messaging.\\n\\nWhen using Azure AI Language to evaluate sentiment, the response includes\\noverall document sentiment and individual sentence sentiment for each document\\nsubmitted to the service.\\n\\nFor example, you could submit a single document for sentiment analysis like\\nthis:\\n\\nJSON Copy\\n\\n    \\n    \\n    {\\n      \"kind\": \"SentimentAnalysis\",\\n      \"parameters\": {\\n        \"modelVersion\": \"latest\"\\n      },\\n      \"analysisInput\": {\\n        \"documents\": [\\n          {\\n            \"id\": \"1\",\\n            \"language\": \"en\",\\n            \"text\": \"Good morning!\"\\n          }\\n        ]\\n      }\\n    }\\n    \\n    \\n\\nThe response from the service might look like this:\\n\\nJSON Copy\\n\\n    \\n    \\n    {\\n      \"kind\": \"SentimentAnalysisResults\",\\n      \"results\": {\\n        \"documents\": [\\n          {\\n            \"id\": \"1\",\\n            \"sentiment\": \"positive\",\\n            \"confidenceScores\": {\\n              \"positive\": 0.89,\\n              \"neutral\": 0.1,\\n              \"negative\": 0.01\\n            },\\n            \"sentences\": [\\n              {\\n                \"sentiment\": \"positive\",\\n                \"confidenceScores\": {\\n                  \"positive\": 0.89,\\n                  \"neutral\": 0.1,\\n                  \"negative\": 0.01\\n                },\\n                \"offset\": 0,\\n                \"length\": 13,\\n                \"text\": \"Good morning!\"\\n              }\\n            ],\\n            \"warnings\": []\\n          }\\n        ],\\n        \"errors\": [],\\n        \"modelVersion\": \"2022-11-01\"\\n      }\\n    }\\n    \\n\\nSentence sentiment is based on confidence scores for **positive** ,\\n**negative** , and **neutral** classification values between 0 and 1.\\n\\nOverall document sentiment is based on sentences:\\n\\n  * If all sentences are neutral, the overall sentiment is neutral.\\n  * If sentence classifications include only positive and neutral, the overall sentiment is positive.\\n  * If the sentence classifications include only negative and neutral, the overall sentiment is negative.\\n  * If the sentence classifications include positive and negative, the overall sentiment is mixed.\\n\\n* * *\\n\\n## Next unit: Extract entities\\n\\n[ Previous ](/en-us/training/modules/analyze-text-ai-language/4-extract-key-\\nphrases/) [ Next ](/en-us/training/modules/analyze-text-ai-language/6-extract-\\nentities/)\\n\\nNeed help? See our [troubleshooting guide](/en-\\nus/training/support/troubleshooting?uid=learn.wwl.analyze-text-ai-\\nlanguage.analyze-\\nsentiment&documentId=3d4dc6d1-9b46-9704-f511-292f399e401e&versionIndependentDocumentId=d021d8b1-cb34-2843-b582-004448476231&platformId=93b0fe9c-98c2-0a5c-313e-95f621fc9652&contentPath=%2FMicrosoftDocs%2Flearn-\\npr%2Fblob%2Flive%2Flearn-pr%2Fwwl-data-ai%2Fanalyze-text-ai-\\nlanguage%2F5-analyze-sentiment.yml&url=https%3A%2F%2Flearn.microsoft.com%2Fen-\\nus%2Ftraining%2Fmodules%2Fanalyze-text-ai-language%2F5-analyze-\\nsentiment&author=berryivor) or provide specific feedback by [reporting an\\nissue](/en-us/training/support/troubleshooting?uid=learn.wwl.analyze-text-ai-\\nlanguage.analyze-\\nsentiment&documentId=3d4dc6d1-9b46-9704-f511-292f399e401e&versionIndependentDocumentId=d021d8b1-cb34-2843-b582-004448476231&platformId=93b0fe9c-98c2-0a5c-313e-95f621fc9652&contentPath=%2FMicrosoftDocs%2Flearn-\\npr%2Fblob%2Flive%2Flearn-pr%2Fwwl-data-ai%2Fanalyze-text-ai-\\nlanguage%2F5-analyze-sentiment.yml&url=https%3A%2F%2Flearn.microsoft.com%2Fen-\\nus%2Ftraining%2Fmodules%2Fanalyze-text-ai-language%2F5-analyze-\\nsentiment&author=berryivor#report-feedback).\\n\\n* * *\\n\\n## Feedback\\n\\nWas this page helpful?\\n\\nYes No\\n\\n##\\n\\nAsk Learn\\n\\nPreview\\n\\nPlease sign in to use this experience.\\n\\nSign in\\n\\n[English (United States)](/en-\\nus/locale?target=https%3A%2F%2Flearn.microsoft.com%2Fen-\\nus%2Ftraining%2Fmodules%2Fanalyze-text-ai-language%2F5-analyze-sentiment)\\n\\n[ Your Privacy Choices](https://aka.ms/yourcaliforniaprivacychoices)\\n\\nTheme\\n\\n  * Light \\n  * Dark \\n  * High contrast \\n\\n  *   * [AI Disclaimer](https://learn.microsoft.com/en-us/principles-for-ai-generated-content)\\n  * [Previous Versions](https://learn.microsoft.com/en-us/previous-versions/)\\n  * [Blog](https://techcommunity.microsoft.com/t5/microsoft-learn-blog/bg-p/MicrosoftLearnBlog)\\n  * [Contribute](https://learn.microsoft.com/en-us/contribute)\\n  * [Privacy](https://go.microsoft.com/fwlink/?LinkId=521839)\\n  * [Terms of Use](https://learn.microsoft.com/en-us/legal/termsofuse)\\n  * [Trademarks](https://www.microsoft.com/legal/intellectualproperty/Trademarks/)\\n  * © Microsoft 2025\\n\\n')]"
      ]
     },
     "execution_count": 49,
     "metadata": {},
     "output_type": "execute_result"
    }
   ],
   "source": [
    "docs"
   ]
  },
  {
   "cell_type": "code",
   "execution_count": 52,
   "id": "b7e07993",
   "metadata": {},
   "outputs": [],
   "source": [
    "full_text = docs[0].page_content"
   ]
  },
  {
   "cell_type": "code",
   "execution_count": 68,
   "id": "99708e8a",
   "metadata": {},
   "outputs": [],
   "source": [
    "filtered_text = full_text.partition(f\"# {name}\")"
   ]
  },
  {
   "cell_type": "code",
   "execution_count": 83,
   "id": "24012211",
   "metadata": {},
   "outputs": [],
   "source": [
    "context = filtered_text[2].partition(\"## Next unit:\")[0]"
   ]
  },
  {
   "cell_type": "code",
   "execution_count": 86,
   "id": "fcc7317e",
   "metadata": {},
   "outputs": [],
   "source": [
    "from langgraph_supervisor import create_supervisor\n",
    "from langgraph.prebuilt import create_react_agent\n",
    "from langchain_openai import AzureChatOpenAI, AzureOpenAIEmbeddings\n",
    "from dotenv import load_dotenv\n",
    "from langchain_core.tools import tool\n",
    "load_dotenv()\n",
    "import os\n",
    "\n",
    "\n",
    "azure_openai_endpoint = \"https://par-mcdv1i6v-eastus2.cognitiveservices.azure.com/\"\n",
    "azure_openai_key = \"B5c8gMOhCs1BGSMAMkGl6qYaHi2S6kfvaabhTFRq7SmVT5g1qTweJQQJ99BFACHYHv6XJ3w3AAAAACOGrH1e\"\n",
    "deployment_name = \"gpt-4.1-nano\"\n",
    "llm = AzureChatOpenAI(azure_endpoint=azure_openai_endpoint, \n",
    "                      api_key=azure_openai_key, \n",
    "                      api_version=\"2024-12-01-preview\",\n",
    "                      azure_deployment=deployment_name\n",
    "                      )"
   ]
  },
  {
   "cell_type": "code",
   "execution_count": 90,
   "id": "4247fad5",
   "metadata": {},
   "outputs": [],
   "source": [
    "prompt = f\"\"\"You're a smart assistant that helps users to prepare themselves to pass Microsoft certification exams.\n",
    "You job is to generate practice questions for the user.\n",
    "\n",
    "Use the following context to generate your sample questions.\n",
    "\n",
    "### Context ###\n",
    "{context}\n",
    "\n",
    "Generate the questions and answers, each question have to have 3 answers, one correct and 2 incorrect, Or all of them correct, you decide.\n",
    "\n",
    "Provide also the explanation for each answer and the source (if available).\n",
    "\n",
    "Generate only 3 sample questions.\n",
    "\n",
    "Level of difficulty of questions: basic.\n",
    "\n",
    "\"\"\""
   ]
  },
  {
   "cell_type": "code",
   "execution_count": 91,
   "id": "1471d693",
   "metadata": {},
   "outputs": [
    {
     "name": "stdout",
     "output_type": "stream",
     "text": [
      "**Question 1:**  \n",
      "What does sentiment analysis evaluate in a text document?  \n",
      "\n",
      "A) The grammatical correctness of the text.  \n",
      "B) Whether the text is positive, negative, or neutral. *(Correct)*  \n",
      "C) The readability level of the text.  \n",
      "\n",
      "**Explanation:**  \n",
      "Sentiment analysis assesses the overall emotional tone or attitude expressed in a text, categorizing it as positive, negative, or neutral. It does not evaluate grammar or readability.  \n",
      "\n",
      "**Source:**  \n",
      "Based on the context provided, which describes how sentiment analysis evaluates positive or negative sentiments in text.\n",
      "\n",
      "---\n",
      "\n",
      "**Question 2:**  \n",
      "In Azure AI Language sentiment analysis, what determines the overall sentiment of a document?  \n",
      "\n",
      "A) The sentiment of the first sentence only.  \n",
      "B) The sentiment classification of individual sentences and their combination. *(Correct)*  \n",
      "C) The length of the document.  \n",
      "\n",
      "**Explanation:**  \n",
      "The overall document sentiment is derived from the classification of individual sentences: if all are neutral, the overall is neutral; if only positive and neutral, overall is positive; if only negative and neutral, overall is negative; and if both positive and negative are present, the overall is mixed.  \n",
      "\n",
      "**Source:**  \n",
      "From the provided context explaining how sentence sentiments affect the overall document sentiment.\n",
      "\n",
      "---\n",
      "\n",
      "**Question 3:**  \n",
      "Which confidence scores are used to determine sentence sentiment in Azure AI Language?  \n",
      "\n",
      "A) Positive, negative, and neutral scores between 0 and 1. *(Correct)*  \n",
      "B) Scores for strength, success, and neutrality between 1 and 10.  \n",
      "C) Probability scores for each paragraph in the document.  \n",
      "\n",
      "**Explanation:**  \n",
      "Sentence sentiment classification relies on confidence scores for positive, negative, and neutral classifications, each ranging from 0 to 1, indicating the likelihood of each sentiment.  \n",
      "\n",
      "**Source:**  \n",
      "Directly from the description of how sentiment confidence scores are used in the analysis.\n"
     ]
    }
   ],
   "source": [
    "\n",
    "response = llm.invoke(prompt).content\n",
    "\n",
    "print(response)"
   ]
  }
 ],
 "metadata": {
  "kernelspec": {
   "display_name": ".venv",
   "language": "python",
   "name": "python3"
  },
  "language_info": {
   "codemirror_mode": {
    "name": "ipython",
    "version": 3
   },
   "file_extension": ".py",
   "mimetype": "text/x-python",
   "name": "python",
   "nbconvert_exporter": "python",
   "pygments_lexer": "ipython3",
   "version": "3.11.0"
  }
 },
 "nbformat": 4,
 "nbformat_minor": 5
}
