{
 "cells": [
  {
   "cell_type": "code",
   "execution_count": null,
   "id": "ec987837",
   "metadata": {},
   "outputs": [
    {
     "name": "stdout",
     "output_type": "stream",
     "text": [
      "{'source': 'microsoft.com', 'name': 'AI-900 Overview'}\n"
     ]
    }
   ],
   "source": [
    "from dotenv import load_dotenv\n",
    "import os\n",
    "from pymongo.mongo_client import MongoClient\n",
    "from pymongo.server_api import ServerApi\n",
    "from datetime import datetime\n",
    "import json\n",
    "\n",
    "load_dotenv()\n",
    "\n",
    "def update_content():\n",
    "    # Create a new client and connect to the server\n",
    "    client = MongoClient(os.getenv(\"uri\"), server_api=ServerApi('1'))\n",
    "    # Select database and collection\n",
    "    db = client[\"documentation\"]\n",
    "    # TODO Extract the name of the course from the JSON itself\n",
    "    collection =db[\"AI-900\"]\n",
    "    \n",
    "    # Receive the latest update of data\n",
    "    time = datetime.today().strftime(\"%d-%m-%Y\")\n",
    "    \n",
    "    # Extract the Json as Dict\n",
    "    data = dict\n",
    "    with open(f\"../Upload/{time}.json\") as file:\n",
    "        data = json.load(file)\n",
    "\n",
    "    # Insert the data from JSON into MongoDB\n",
    "    try:\n",
    "        # Check if the JSON file containts just one object.\n",
    "        if isinstance(data, list):\n",
    "            collection.insert_many(data)\n",
    "        else:\n",
    "            collection.insert_one(data)\n",
    "    except Exception as e:\n",
    "        print(e)\n",
    "\n",
    "def select_content(course: str):\n",
    "    # Create a new client and connect to the server\n",
    "    client = MongoClient(os.getenv(\"uri\"), server_api=ServerApi('1'))\n",
    "    # Select database and collection\n",
    "    db = client[\"documentation\"]\n",
    "    collection =db[course]\n",
    "\n",
    "    # Find all documents\n",
    "    all_docs = collection.find()\n",
    "\n",
    "    # Print each document\n",
    "    for doc in all_docs:\n",
    "        print(doc['documents'])\n",
    "\n",
    "\n",
    "#update_content()\n",
    "select_content(\"AI-900\")"
   ]
  }
 ],
 "metadata": {
  "kernelspec": {
   "display_name": ".venv",
   "language": "python",
   "name": "python3"
  },
  "language_info": {
   "codemirror_mode": {
    "name": "ipython",
    "version": 3
   },
   "file_extension": ".py",
   "mimetype": "text/x-python",
   "name": "python",
   "nbconvert_exporter": "python",
   "pygments_lexer": "ipython3",
   "version": "3.11.9"
  }
 },
 "nbformat": 4,
 "nbformat_minor": 5
}
