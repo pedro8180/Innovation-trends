{
 "cells": [
  {
   "cell_type": "code",
   "execution_count": 1,
   "metadata": {},
   "outputs": [],
   "source": [
    "\n",
    "from langgraph_supervisor import create_supervisor\n",
    "from langgraph.prebuilt import create_react_agent\n",
    "from langchain_openai import AzureChatOpenAI, AzureOpenAIEmbeddings\n",
    "from dotenv import load_dotenv\n",
    "from langchain_core.tools import tool\n",
    "load_dotenv()\n",
    "import os\n",
    "\n",
    "\n",
    "azure_openai_endpoint = \"https://par-mcdv1i6v-eastus2.cognitiveservices.azure.com/\"\n",
    "azure_openai_key = \"B5c8gMOhCs1BGSMAMkGl6qYaHi2S6kfvaabhTFRq7SmVT5g1qTweJQQJ99BFACHYHv6XJ3w3AAAAACOGrH1e\"\n",
    "deployment_name = \"gpt-4.1-nano\"\n",
    "llm = AzureChatOpenAI(azure_endpoint=azure_openai_endpoint, \n",
    "                      api_key=azure_openai_key, \n",
    "                      api_version=\"2024-12-01-preview\",\n",
    "                      azure_deployment=deployment_name\n",
    "                      )"
   ]
  },
  {
   "cell_type": "code",
   "execution_count": 3,
   "metadata": {},
   "outputs": [],
   "source": [
    "@tool\n",
    "def get_hr_context(category: str)-> str:\n",
    "    \"Get context based on category\"\n",
    "\n",
    "    context = \"\"\n",
    "    if category.lower() == \"payroll\":\n",
    "        context = \"\"\"\n",
    "1. Purpose\n",
    "The purpose of this payroll policy is to outline the procedures and guidelines for compensating employees in a fair, consistent, and legally compliant manner. This policy ensures transparency and provides a clear understanding of how employees are paid.\n",
    "\n",
    "2. Scope\n",
    "This policy applies to all employees of Pedro's Company, including full-time, part-time, temporary, and contract employees.\n",
    "\n",
    "3. Pay Schedule\n",
    "Frequency: Employees are paid on a monthly basis.\n",
    "Pay dates: Paychecks are issued on the 15th of every month.\n",
    "4. Compensation Structure\n",
    "Salaries and wages: Compensation is determined based on job role, experience, and performance. Salary ranges are reviewed periodically.\n",
    "Pay increases: Performance-based raises and annual reviews determine salary increases.\n",
    "Bonuses and commissions: Eligible employees may receive bonuses and commissions based on predefined criteria and performance metrics.\n",
    "5. Overtime and Holiday Pay\n",
    "Overtime: Overtime is defined as hours worked beyond 40 hours per week. Overtime is paid at 1.5 times the regular hourly rate.\n",
    "Holiday pay: Employees who work on designated holidays will receive double time.\n",
    "6. Deductions\n",
    "Mandatory deductions: Federal and state taxes, Social Security, Medicare, and any court-ordered garnishments will be deducted from each paycheck.\n",
    "Voluntary deductions: Employees may authorize deductions for retirement plans, health insurance premiums, and other benefits.\n",
    "7. Timekeeping\n",
    "Time tracking: Employees must accurately record their work hours using timesheets.\n",
    "Submission and approval: Timesheets must be submitted by the end of the month, and supervisors must approve them by 30th each month.\n",
    "8. Payroll Processing\n",
    "Calculation: Payroll is calculated based on submitted and approved timesheets, including any applicable overtime and deductions.\n",
    "Processing deadlines: All timekeeping records must be submitted by end of the month, and payroll will be processed by the 30th each month.\n",
    "Error handling: Payroll errors must be reported to payroll department within the current month for correction.\n",
    "9. Payment Methods\n",
    "Direct deposit: Employees are encouraged to sign up for the company's direct deposit system. Forms for setting up direct deposit are available from [HR/payroll department].\n",
    "Physical checks: Employees not using direct deposit will receive physical checks, distributed on paydays.\n",
    "Payroll cards: [If applicable] Employees can opt to receive their pay on payroll cards.\n",
    "\n",
    "10. Compliance\n",
    "Regulatory compliance: All payroll practices comply with federal, state, and local labor laws.\n",
    "Minimum wage and overtime: Pedro's Company adheres to all applicable minimum wage and overtime regulations.\n",
    "12. Recordkeeping\n",
    "Maintenance: Payroll records are maintained for a minimum of 5 years as required by law.\n",
    "Access: Employees can request access to their payroll records by contacting payroll department.\n",
    "13. Confidentiality\n",
    "Confidential Information: Payroll information is confidential and will be accessed only by authorized personnel.\n",
    "Access Control: Strict access controls are in place to protect payroll data.\n",
    "15. Responsibilities\n",
    "HR staff: Responsible for keeping accurate employee records including all information pertaining to payroll.\n",
    "Payroll staff: Responsible for processing payroll accurately and on time.\n",
    "Supervisors: Responsible for approving timesheets and leave requests.\n",
    "Employees: Responsible for accurately recording and submitting work hours and making any changes known/updating payroll info.\"\"\"\n",
    "\n",
    "    elif category.lower() == \"paternity leave\":\n",
    "        context = \"\"\"Leave and Absence Policies\n",
    "Paid leave: Vacation, sick leave, paternity leave and other paid leaves are deducted from accrued balances and paid according to regular pay rates.\n",
    "Unpaid leave: Unpaid leave is recorded, and no pay is issued for the duration of the leave.\n",
    "Leave requests: Leave requests must be submitted in advance and approved by supervisor.\n",
    "Patternity leave is of 8 weeks. Employee can take less weeks, no more than 8.\"\"\"\n",
    "\n",
    "    elif category.lower() == \"vacation time\":\n",
    "        context = \"\"\"Pedro´s company offers flex time as a new benefit for employees. \n",
    "            Employee gets 5 vacations hours every 15 days.\n",
    "            Empoyee has 5 days of vacation in march and another week in december.\n",
    "            \"\"\"\n",
    "    elif category.lower() == \"my benefits\":\n",
    "        context = \"\"\"Employee Benefits are:\n",
    "            \n",
    "            - Parking lot in towers\n",
    "            - Flex time\n",
    "            - Home office\n",
    "            - Gym membership\n",
    "            - Paternity / Maternity Leave\n",
    "            - Christmas bonus\n",
    "            - Company shares\n",
    "            - Company credit card\n",
    "            \"\"\"\n",
    "    elif category.lower() == \"holidays\":\n",
    "        context = \"\"\"Holidays are:\n",
    "            - February 5th\n",
    "            - March 18th\n",
    "            - March 21st\n",
    "            - May 1st\n",
    "            - May 10th half day\n",
    "            - September 16th\n",
    "            - November 2nd\n",
    "            - November 20th\n",
    "            - December 12th\n",
    "            \"\"\"\n",
    "    return context\n"
   ]
  },
  {
   "cell_type": "code",
   "execution_count": 4,
   "metadata": {},
   "outputs": [],
   "source": [
    "@tool\n",
    "def get_it_context(category: str)-> str:\n",
    "    \"get context for answering questions related to IT topics\"\n",
    "\n",
    "    context = \"\"\n",
    "\n",
    "    if category == \"Authentication\":\n",
    "\n",
    "        context = \"\"\"Here's a breakdown of authentication policy examples:\n",
    "1. Password Policies:\n",
    "Minimum password length and complexity: Enforcing rules for password strength, such as minimum length, requiring special characters, or prohibiting dictionary words.\n",
    "Password expiration: Setting a time limit for password validity, requiring users to change their passwords periodically.\n",
    "Password reuse prevention: Preventing users from reusing old passwords. \n",
    "2. Multi-Factor Authentication (MFA):\n",
    "MFA for specific actions: Requiring MFA for sensitive operations like accessing financial data, changing personal information, or logging in from new locations. \n",
    "MFA for all logins: Implementing MFA for all user logins to enhance security. \n",
    "Different MFA methods: Utilizing various MFA methods like one-time passwords (OTP), biometrics (fingerprint, facial recognition), or security keys. \n",
    "3. Session Management:\n",
    "Idle session timeout: Automatically logging users out after a period of inactivity.\n",
    "Session expiration for mobile apps: Setting a time limit for mobile app sessions, especially on company-owned devices.\n",
    "Token expiration: Setting expiration times for API tokens used for authentication. \n",
    "4. Authentication Policy Silos (Windows Server):\n",
    "Protected Users Group:\n",
    "A special security group that enforces stricter authentication rules. Users in this group may be required to use more robust authentication methods or may have their NTLM authentication disabled.\n",
    "Authentication Policy Silos:\n",
    "Allow administrators to group users and computers under specific authentication policies. \n",
    "5. Other Examples:\n",
    "SSO (Single Sign-On): Allowing users to authenticate once to access multiple applications. \n",
    "Passwordless Authentication: Using methods like email links, magic links, or SSO solutions instead of passwords. \n",
    "Conditional Access Policies: Dynamically controlling access based on user, device, location, and other factors. \n",
    "Real-World Examples:\n",
    "Snowflake:\n",
    "Allows setting authentication policies to enforce MFA for password-based logins and SSO. \n",
    "Atlassian:\n",
    "Offers various authentication policies including password requirements, two-step verification, and SSO enforcement. \n",
    "Microsoft Entra ID (formerly Azure AD):\n",
    "Provides Conditional Access policies for controlling access based on authentication methods, device compliance, and other factors. \n",
    "Companies using Windows Server:\n",
    "Employ Authentication Policies and Silos to manage authentication for different groups of users and computers. \"\"\"\n",
    "\n",
    "    elif category == \"Hardware\":\n",
    "\n",
    "        context = \"\"\"Hardware Procurement and Asset Management:\n",
    "Policy:\n",
    "Establish a clear process for acquiring new hardware, ensuring it meets specific technical requirements and aligns with the organization's IT strategy.\n",
    "Example:\n",
    "Specify the brands, models, and configurations of computers, laptops, and peripherals that are approved for purchase. Include procedures for requesting and justifying new hardware. Implement a system for tracking hardware assets (location, user, etc.). \n",
    "2. Acceptable Use Policy (AUP):\n",
    "Policy:\n",
    "Define what is considered acceptable use of company-owned hardware and software, including internet access, email, and social media.\n",
    "Example:\n",
    "Prohibit the installation of unauthorized software, downloading of illegal content, or use of company resources for personal gain. Outline consequences for policy violations. \n",
    "3. Security Policies:\n",
    "Policy:\n",
    "Implement measures to protect hardware and data from unauthorized access, loss, or damage.\n",
    "Example:\n",
    "Require strong passwords, regular software updates, and the use of antivirus and anti-malware software on all devices. Encrypt sensitive data stored on laptops and mobile devices. Establish procedures for reporting lost or stolen devices. \n",
    "4. Remote Access Policy:\n",
    "Policy:\n",
    "Govern how employees access company systems and data when working remotely.\n",
    "Example:\n",
    "Specify the use of VPNs, secure connections, and multi-factor authentication for remote access. Ensure devices used for remote access meet security requirements. \n",
    "5. BYOD (Bring Your Own Device) Policy:\n",
    "Policy: Address the use of personal devices for accessing company resources.\n",
    "Example: Outline the steps employees must take to connect personal devices to the company network, including security requirements and acceptable use guidelines. \n",
    "6. Data Security Policy:\n",
    "Policy:\n",
    "Define protocols for protecting data, including encryption, access controls, and data breach response plans.\n",
    "Example:\n",
    "Specify how data should be encrypted when stored or transmitted. Limit access to sensitive data based on job roles. Have a documented plan for responding to data breaches. \n",
    "7. Software and Hardware Management:\n",
    "Policy:\n",
    "Establish procedures for software and hardware installation, updates, and disposal of old equipment. \n",
    "Example:\n",
    "Ensure that all software is licensed and kept up to date with security patches. Outline procedures for securely disposing of old hardware, including wiping data and recycling components. \n",
    "By implementing these hardware policies, organizations can create a more secure, efficient, and compliant IT environment. These policies help protect valuable assets, prevent data breaches, and ensure that employees are using company resources responsibly. \"\"\"\n",
    "\n",
    "    return context"
   ]
  },
  {
   "cell_type": "code",
   "execution_count": null,
   "metadata": {},
   "outputs": [],
   "source": [
    "hr_agent = create_react_agent(\n",
    "    model = llm,\n",
    "    name = \"hr_agent\",\n",
    "    tools = [get_hr_context],\n",
    "    prompt = \"You're a smart assistant that help users to answer questions realted to Human Resources Topics\" \\\n",
    "    \"Your job is to always use your tool to generate an answer based on provided category\" \\\n",
    "    \"Do not try to generate the answer by yourself, always call your tool: get_hr_context and provide the most complete answer that you can.\" \\\n",
    "    \"Do not return responses like: I'm retrieving information...\" \\\n",
    "    \"Always retrieve the info from your tools and generate an accurate response\"\n",
    "    \n",
    ")\n",
    "\n",
    "it_agent = create_react_agent(\n",
    "    model = llm,\n",
    "    name = \"it_agent\",\n",
    "    tools = [get_it_context],\n",
    "    prompt = \"You're a smart assistant that help users to answer questions realted to IT Topics\" \\\n",
    "    \"Your job is to always use your tool to generate an answer based on provided category\" \\\n",
    "    \"Do not try to generate the answer by yourself, always call your tool: get_it_context and provided the most complete answer that you can.\" \\\n",
    "    \"Do not return responses like: I'm retrieving information...\" \\\n",
    "    \"Always retrieve the info from your tools and generate an accurate response\"\n",
    "    \n",
    ")"
   ]
  },
  {
   "cell_type": "code",
   "execution_count": 21,
   "metadata": {},
   "outputs": [],
   "source": [
    "workflow = create_supervisor(\n",
    "    agents=[hr_agent, it_agent],\n",
    "    model=llm,\n",
    "    prompt = \"You're a smart assistant that act as a supervisor and handles two agents: it_agent and hr_agent.\" \\\n",
    "    \"Your job is to analyze the query from user and handoff to the most suitable agent\" \\\n",
    "    \"Here is the list of sub-agents: it_agent, hr_agent\"\n",
    "    \"The hr_agent answer questions related to human resources topics.\" \\\n",
    "    \"The it_agent answer questions related to IT department topics\" \\\n",
    "    \"For IT topics always handoff to it_agent\" \\\n",
    "    \"For Human resources (HR) topics (questions), always handoff to the hr_agent\" \\\n",
    "    \"Before returning your final response, check the input from user and the answer from sub agent and construct a full response.\" \\\n",
    "    \"Return the most complete answer that you can construct\"\n",
    "     \n",
    ")\n",
    "\n",
    "\n",
    "app = workflow.compile(name=\"supervisor_agent\")"
   ]
  },
  {
   "cell_type": "code",
   "execution_count": 25,
   "metadata": {},
   "outputs": [
    {
     "data": {
      "image/png": "[encoded data removed]",
      "text/plain": [
       "<langgraph.graph.state.CompiledStateGraph object at 0x00000208F32EC450>"
      ]
     },
     "execution_count": 25,
     "metadata": {},
     "output_type": "execute_result"
    }
   ],
   "source": [
    "app"
   ]
  },
  {
   "cell_type": "code",
   "execution_count": 24,
   "metadata": {},
   "outputs": [
    {
     "name": "stdout",
     "output_type": "stream",
     "text": [
      "You are eligible for up to 8 weeks of paternity leave. You can choose to take less than the full 8 weeks if you wish. If you need more specific information or assistance regarding your paternity leave, please let me know.\n"
     ]
    }
   ],
   "source": [
    "query = \"How many paternity weeks do I have as a dad? \"\n",
    "sample_input = {\"messages\":[{\"role\":\"user\", \"content\": query}]}\n",
    "\n",
    "response = app.invoke(sample_input)\n",
    "print(response['messages'][-1].content)"
   ]
  },
  {
   "cell_type": "code",
   "execution_count": 23,
   "metadata": {},
   "outputs": [
    {
     "data": {
      "text/plain": [
       "[HumanMessage(content='How many paternity weeks do I have as a dad? ', additional_kwargs={}, response_metadata={}, id='cbde3a89-2abf-49ff-8be6-51456200997a'),\n",
       " AIMessage(content='', additional_kwargs={'tool_calls': [{'id': 'call_cw9zaYqBmTWi97SatEbxR3Y1', 'function': {'arguments': '{}', 'name': 'transfer_to_hr_agent'}, 'type': 'function'}], 'refusal': None}, response_metadata={'token_usage': {'completion_tokens': 13, 'prompt_tokens': 203, 'total_tokens': 216, 'completion_tokens_details': {'accepted_prediction_tokens': 0, 'audio_tokens': 0, 'reasoning_tokens': 0, 'rejected_prediction_tokens': 0}, 'prompt_tokens_details': {'audio_tokens': 0, 'cached_tokens': 0}}, 'model_name': 'gpt-4.1-nano-2025-04-14', 'system_fingerprint': 'fp_68472df8fd', 'id': 'chatcmpl-Bph8UF9VubGt14LxFh5yOD7e1lXN2', 'service_tier': None, 'prompt_filter_results': [{'prompt_index': 0, 'content_filter_results': {'hate': {'filtered': False, 'severity': 'safe'}, 'self_harm': {'filtered': False, 'severity': 'safe'}, 'sexual': {'filtered': False, 'severity': 'safe'}, 'violence': {'filtered': False, 'severity': 'safe'}}}], 'finish_reason': 'tool_calls', 'logprobs': None, 'content_filter_results': {}}, name='supervisor', id='run--dcbbcaaa-46d8-4292-b500-1b5063fd4ef7-0', tool_calls=[{'name': 'transfer_to_hr_agent', 'args': {}, 'id': 'call_cw9zaYqBmTWi97SatEbxR3Y1', 'type': 'tool_call'}], usage_metadata={'input_tokens': 203, 'output_tokens': 13, 'total_tokens': 216, 'input_token_details': {'audio': 0, 'cache_read': 0}, 'output_token_details': {'audio': 0, 'reasoning': 0}}),\n",
       " ToolMessage(content='Successfully transferred to hr_agent', name='transfer_to_hr_agent', id='9b6b6fcd-1acc-4de3-a9d1-66c7e99ae653', tool_call_id='call_cw9zaYqBmTWi97SatEbxR3Y1'),\n",
       " AIMessage(content='You are entitled to up to 8 weeks of paternity leave. You can choose to take less than the full 8 weeks, but cannot exceed this amount.', additional_kwargs={'refusal': None}, response_metadata={'token_usage': {'completion_tokens': 35, 'prompt_tokens': 289, 'total_tokens': 324, 'completion_tokens_details': {'accepted_prediction_tokens': 0, 'audio_tokens': 0, 'reasoning_tokens': 0, 'rejected_prediction_tokens': 0}, 'prompt_tokens_details': {'audio_tokens': 0, 'cached_tokens': 0}}, 'model_name': 'gpt-4.1-nano-2025-04-14', 'system_fingerprint': 'fp_68472df8fd', 'id': 'chatcmpl-Bph8Vq3BUYJS11u0JQXQTKrBndrBH', 'service_tier': None, 'prompt_filter_results': [{'prompt_index': 0, 'content_filter_results': {'hate': {'filtered': False, 'severity': 'safe'}, 'self_harm': {'filtered': False, 'severity': 'safe'}, 'sexual': {'filtered': False, 'severity': 'safe'}, 'violence': {'filtered': False, 'severity': 'safe'}}}], 'finish_reason': 'stop', 'logprobs': None, 'content_filter_results': {'hate': {'filtered': False, 'severity': 'safe'}, 'self_harm': {'filtered': False, 'severity': 'safe'}, 'sexual': {'filtered': False, 'severity': 'safe'}, 'violence': {'filtered': False, 'severity': 'safe'}}}, name='hr_agent', id='run--a457240d-1782-446f-81c0-25c9b8df2abd-0', usage_metadata={'input_tokens': 289, 'output_tokens': 35, 'total_tokens': 324, 'input_token_details': {'audio': 0, 'cache_read': 0}, 'output_token_details': {'audio': 0, 'reasoning': 0}}),\n",
       " AIMessage(content='Transferring back to supervisor', additional_kwargs={}, response_metadata={'__is_handoff_back': True}, name='hr_agent', id='980b9cee-fc04-47ed-90a0-294156870d0a', tool_calls=[{'name': 'transfer_back_to_supervisor', 'args': {}, 'id': 'dccea343-84ae-4348-9a81-5be880e4a8c1', 'type': 'tool_call'}]),\n",
       " ToolMessage(content='Successfully transferred back to supervisor', name='transfer_back_to_supervisor', id='3b369ed7-740e-4144-bb64-b393063c5a43', tool_call_id='dccea343-84ae-4348-9a81-5be880e4a8c1'),\n",
       " AIMessage(content='You are entitled to up to 8 weeks of paternity leave. You can choose to take less than the full 8 weeks, but cannot exceed this amount.', additional_kwargs={'refusal': None}, response_metadata={'token_usage': {'completion_tokens': 35, 'prompt_tokens': 318, 'total_tokens': 353, 'completion_tokens_details': {'accepted_prediction_tokens': 0, 'audio_tokens': 0, 'reasoning_tokens': 0, 'rejected_prediction_tokens': 0}, 'prompt_tokens_details': {'audio_tokens': 0, 'cached_tokens': 0}}, 'model_name': 'gpt-4.1-nano-2025-04-14', 'system_fingerprint': 'fp_68472df8fd', 'id': 'chatcmpl-Bph8WrcGEiYxUUkJ8I9weRlHU0zsr', 'service_tier': None, 'prompt_filter_results': [{'prompt_index': 0, 'content_filter_results': {'hate': {'filtered': False, 'severity': 'safe'}, 'self_harm': {'filtered': False, 'severity': 'safe'}, 'sexual': {'filtered': False, 'severity': 'safe'}, 'violence': {'filtered': False, 'severity': 'safe'}}}], 'finish_reason': 'stop', 'logprobs': None, 'content_filter_results': {'hate': {'filtered': False, 'severity': 'safe'}, 'self_harm': {'filtered': False, 'severity': 'safe'}, 'sexual': {'filtered': False, 'severity': 'safe'}, 'violence': {'filtered': False, 'severity': 'safe'}}}, name='supervisor', id='run--7434b214-6062-4276-9b2b-71e1c8095ea2-0', usage_metadata={'input_tokens': 318, 'output_tokens': 35, 'total_tokens': 353, 'input_token_details': {'audio': 0, 'cache_read': 0}, 'output_token_details': {'audio': 0, 'reasoning': 0}})]"
      ]
     },
     "execution_count": 23,
     "metadata": {},
     "output_type": "execute_result"
    }
   ],
   "source": [
    "response['messages']"
   ]
  },
  {
   "cell_type": "code",
   "execution_count": 14,
   "metadata": {},
   "outputs": [
    {
     "name": "stdout",
     "output_type": "stream",
     "text": [
      "{'supervisor': {'messages': [HumanMessage(content='How many paternity weeks do I have as a dad? ', additional_kwargs={}, response_metadata={}, id='d2ab9f8b-64ca-46fa-bad1-1191391fb113'), AIMessage(content='', additional_kwargs={'tool_calls': [{'id': 'call_3luGYCJCiZw1tNtwZo1HOHhT', 'function': {'arguments': '{}', 'name': 'transfer_to_hr_agent'}, 'type': 'function'}], 'refusal': None}, response_metadata={'token_usage': {'completion_tokens': 13, 'prompt_tokens': 183, 'total_tokens': 196, 'completion_tokens_details': {'accepted_prediction_tokens': 0, 'audio_tokens': 0, 'reasoning_tokens': 0, 'rejected_prediction_tokens': 0}, 'prompt_tokens_details': {'audio_tokens': 0, 'cached_tokens': 0}}, 'model_name': 'gpt-4.1-nano-2025-04-14', 'system_fingerprint': 'fp_68472df8fd', 'id': 'chatcmpl-Bph3FbGyk77yc0H7zx2d0b1gnJXi9', 'service_tier': None, 'prompt_filter_results': [{'prompt_index': 0, 'content_filter_results': {'hate': {'filtered': False, 'severity': 'safe'}, 'self_harm': {'filtered': False, 'severity': 'safe'}, 'sexual': {'filtered': False, 'severity': 'safe'}, 'violence': {'filtered': False, 'severity': 'safe'}}}], 'finish_reason': 'tool_calls', 'logprobs': None, 'content_filter_results': {}}, name='supervisor', id='run--c2283777-0ae3-40b9-9d58-9cb6dcb55292-0', tool_calls=[{'name': 'transfer_to_hr_agent', 'args': {}, 'id': 'call_3luGYCJCiZw1tNtwZo1HOHhT', 'type': 'tool_call'}], usage_metadata={'input_tokens': 183, 'output_tokens': 13, 'total_tokens': 196, 'input_token_details': {'audio': 0, 'cache_read': 0}, 'output_token_details': {'audio': 0, 'reasoning': 0}}), ToolMessage(content='Successfully transferred to hr_agent', name='transfer_to_hr_agent', id='254d86f9-4902-4f3c-b31f-0baafa1ba784', tool_call_id='call_3luGYCJCiZw1tNtwZo1HOHhT')]}}\n",
      "{'hr_agent': {'messages': [AIMessage(content='As a dad, you are entitled to up to 8 weeks of paternity leave. You can take less than 8 weeks if you choose, but no more than 8 weeks.', additional_kwargs={'refusal': None}, response_metadata={'token_usage': {'completion_tokens': 40, 'prompt_tokens': 289, 'total_tokens': 329, 'completion_tokens_details': {'accepted_prediction_tokens': 0, 'audio_tokens': 0, 'reasoning_tokens': 0, 'rejected_prediction_tokens': 0}, 'prompt_tokens_details': {'audio_tokens': 0, 'cached_tokens': 0}}, 'model_name': 'gpt-4.1-nano-2025-04-14', 'system_fingerprint': 'fp_68472df8fd', 'id': 'chatcmpl-Bph3GpxWdkMu2r8FSiJELoKkDyhKw', 'service_tier': None, 'prompt_filter_results': [{'prompt_index': 0, 'content_filter_results': {'hate': {'filtered': False, 'severity': 'safe'}, 'self_harm': {'filtered': False, 'severity': 'safe'}, 'sexual': {'filtered': False, 'severity': 'safe'}, 'violence': {'filtered': False, 'severity': 'safe'}}}], 'finish_reason': 'stop', 'logprobs': None, 'content_filter_results': {'hate': {'filtered': False, 'severity': 'safe'}, 'self_harm': {'filtered': False, 'severity': 'safe'}, 'sexual': {'filtered': False, 'severity': 'safe'}, 'violence': {'filtered': False, 'severity': 'safe'}}}, name='hr_agent', id='run--26102fc6-c3bd-47ec-be34-922f90596cdf-0', usage_metadata={'input_tokens': 289, 'output_tokens': 40, 'total_tokens': 329, 'input_token_details': {'audio': 0, 'cache_read': 0}, 'output_token_details': {'audio': 0, 'reasoning': 0}}), AIMessage(content='Transferring back to supervisor', additional_kwargs={}, response_metadata={'__is_handoff_back': True}, name='hr_agent', id='ad5138bb-be21-4a47-98f6-7e52d23ddc71', tool_calls=[{'name': 'transfer_back_to_supervisor', 'args': {}, 'id': '113d68f4-784a-4f79-be24-92cbdb65a29a', 'type': 'tool_call'}]), ToolMessage(content='Successfully transferred back to supervisor', name='transfer_back_to_supervisor', id='5d7ffb3b-b20a-4a13-9f73-e79109b1cfd5', tool_call_id='113d68f4-784a-4f79-be24-92cbdb65a29a')]}}\n",
      "{'supervisor': {'messages': [HumanMessage(content='How many paternity weeks do I have as a dad? ', additional_kwargs={}, response_metadata={}, id='d2ab9f8b-64ca-46fa-bad1-1191391fb113'), AIMessage(content='', additional_kwargs={'tool_calls': [{'id': 'call_3luGYCJCiZw1tNtwZo1HOHhT', 'function': {'arguments': '{}', 'name': 'transfer_to_hr_agent'}, 'type': 'function'}], 'refusal': None}, response_metadata={'token_usage': {'completion_tokens': 13, 'prompt_tokens': 183, 'total_tokens': 196, 'completion_tokens_details': {'accepted_prediction_tokens': 0, 'audio_tokens': 0, 'reasoning_tokens': 0, 'rejected_prediction_tokens': 0}, 'prompt_tokens_details': {'audio_tokens': 0, 'cached_tokens': 0}}, 'model_name': 'gpt-4.1-nano-2025-04-14', 'system_fingerprint': 'fp_68472df8fd', 'id': 'chatcmpl-Bph3FbGyk77yc0H7zx2d0b1gnJXi9', 'service_tier': None, 'prompt_filter_results': [{'prompt_index': 0, 'content_filter_results': {'hate': {'filtered': False, 'severity': 'safe'}, 'self_harm': {'filtered': False, 'severity': 'safe'}, 'sexual': {'filtered': False, 'severity': 'safe'}, 'violence': {'filtered': False, 'severity': 'safe'}}}], 'finish_reason': 'tool_calls', 'logprobs': None, 'content_filter_results': {}}, name='supervisor', id='run--c2283777-0ae3-40b9-9d58-9cb6dcb55292-0', tool_calls=[{'name': 'transfer_to_hr_agent', 'args': {}, 'id': 'call_3luGYCJCiZw1tNtwZo1HOHhT', 'type': 'tool_call'}], usage_metadata={'input_tokens': 183, 'output_tokens': 13, 'total_tokens': 196, 'input_token_details': {'audio': 0, 'cache_read': 0}, 'output_token_details': {'audio': 0, 'reasoning': 0}}), ToolMessage(content='Successfully transferred to hr_agent', name='transfer_to_hr_agent', id='254d86f9-4902-4f3c-b31f-0baafa1ba784', tool_call_id='call_3luGYCJCiZw1tNtwZo1HOHhT'), AIMessage(content='As a dad, you are entitled to up to 8 weeks of paternity leave. You can take less than 8 weeks if you choose, but no more than 8 weeks.', additional_kwargs={'refusal': None}, response_metadata={'token_usage': {'completion_tokens': 40, 'prompt_tokens': 289, 'total_tokens': 329, 'completion_tokens_details': {'accepted_prediction_tokens': 0, 'audio_tokens': 0, 'reasoning_tokens': 0, 'rejected_prediction_tokens': 0}, 'prompt_tokens_details': {'audio_tokens': 0, 'cached_tokens': 0}}, 'model_name': 'gpt-4.1-nano-2025-04-14', 'system_fingerprint': 'fp_68472df8fd', 'id': 'chatcmpl-Bph3GpxWdkMu2r8FSiJELoKkDyhKw', 'service_tier': None, 'prompt_filter_results': [{'prompt_index': 0, 'content_filter_results': {'hate': {'filtered': False, 'severity': 'safe'}, 'self_harm': {'filtered': False, 'severity': 'safe'}, 'sexual': {'filtered': False, 'severity': 'safe'}, 'violence': {'filtered': False, 'severity': 'safe'}}}], 'finish_reason': 'stop', 'logprobs': None, 'content_filter_results': {'hate': {'filtered': False, 'severity': 'safe'}, 'self_harm': {'filtered': False, 'severity': 'safe'}, 'sexual': {'filtered': False, 'severity': 'safe'}, 'violence': {'filtered': False, 'severity': 'safe'}}}, name='hr_agent', id='run--26102fc6-c3bd-47ec-be34-922f90596cdf-0', usage_metadata={'input_tokens': 289, 'output_tokens': 40, 'total_tokens': 329, 'input_token_details': {'audio': 0, 'cache_read': 0}, 'output_token_details': {'audio': 0, 'reasoning': 0}}), AIMessage(content='Transferring back to supervisor', additional_kwargs={}, response_metadata={'__is_handoff_back': True}, name='hr_agent', id='ad5138bb-be21-4a47-98f6-7e52d23ddc71', tool_calls=[{'name': 'transfer_back_to_supervisor', 'args': {}, 'id': '113d68f4-784a-4f79-be24-92cbdb65a29a', 'type': 'tool_call'}]), ToolMessage(content='Successfully transferred back to supervisor', name='transfer_back_to_supervisor', id='5d7ffb3b-b20a-4a13-9f73-e79109b1cfd5', tool_call_id='113d68f4-784a-4f79-be24-92cbdb65a29a'), AIMessage(content='I have provided the information to the HR agent. If you need further assistance, please let me know!', additional_kwargs={'refusal': None}, response_metadata={'token_usage': {'completion_tokens': 23, 'prompt_tokens': 303, 'total_tokens': 326, 'completion_tokens_details': {'accepted_prediction_tokens': 0, 'audio_tokens': 0, 'reasoning_tokens': 0, 'rejected_prediction_tokens': 0}, 'prompt_tokens_details': {'audio_tokens': 0, 'cached_tokens': 0}}, 'model_name': 'gpt-4.1-nano-2025-04-14', 'system_fingerprint': 'fp_68472df8fd', 'id': 'chatcmpl-Bph3HBsSZESYkjSCXlVQPoQzIPz4W', 'service_tier': None, 'prompt_filter_results': [{'prompt_index': 0, 'content_filter_results': {'hate': {'filtered': False, 'severity': 'safe'}, 'self_harm': {'filtered': False, 'severity': 'safe'}, 'sexual': {'filtered': False, 'severity': 'safe'}, 'violence': {'filtered': False, 'severity': 'safe'}}}], 'finish_reason': 'stop', 'logprobs': None, 'content_filter_results': {'hate': {'filtered': False, 'severity': 'safe'}, 'self_harm': {'filtered': False, 'severity': 'safe'}, 'sexual': {'filtered': False, 'severity': 'safe'}, 'violence': {'filtered': False, 'severity': 'safe'}}}, name='supervisor', id='run--d8d4beed-34ff-41c0-961d-86412e1c5de3-0', usage_metadata={'input_tokens': 303, 'output_tokens': 23, 'total_tokens': 326, 'input_token_details': {'audio': 0, 'cache_read': 0}, 'output_token_details': {'audio': 0, 'reasoning': 0}})]}}\n"
     ]
    }
   ],
   "source": [
    "for c in app.stream(sample_input):\n",
    "    print(c)"
   ]
  },
  {
   "cell_type": "code",
   "execution_count": null,
   "metadata": {},
   "outputs": [],
   "source": []
  }
 ],
 "metadata": {
  "kernelspec": {
   "display_name": ".venv",
   "language": "python",
   "name": "python3"
  },
  "language_info": {
   "codemirror_mode": {
    "name": "ipython",
    "version": 3
   },
   "file_extension": ".py",
   "mimetype": "text/x-python",
   "name": "python",
   "nbconvert_exporter": "python",
   "pygments_lexer": "ipython3",
   "version": "3.11.0"
  }
 },
 "nbformat": 4,
 "nbformat_minor": 2
}
